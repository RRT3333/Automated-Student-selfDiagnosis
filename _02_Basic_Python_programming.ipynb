{
  "nbformat": 4,
  "nbformat_minor": 0,
  "metadata": {
    "colab": {
      "name": "-02.Basic Python programming",
      "provenance": [],
      "collapsed_sections": [],
      "toc_visible": true,
      "include_colab_link": true
    },
    "kernelspec": {
      "name": "python3",
      "display_name": "Python 3"
    }
  },
  "cells": [
    {
      "cell_type": "markdown",
      "metadata": {
        "id": "view-in-github",
        "colab_type": "text"
      },
      "source": [
        "<a href=\"https://colab.research.google.com/github/RRT3333/Automated-Student-selfDiagnosis/blob/master/_02_Basic_Python_programming.ipynb\" target=\"_parent\"><img src=\"https://colab.research.google.com/assets/colab-badge.svg\" alt=\"Open In Colab\"/></a>"
      ]
    },
    {
      "cell_type": "markdown",
      "metadata": {
        "id": "3g6o04iLM0AF",
        "colab_type": "text"
      },
      "source": [
        "**Lists, tuples, dictionary**\n",
        "\n",
        "* 이 수업 자료는 python을 처음 시작하는 사람들을 위해 제작되었다.\n",
        "\n",
        "* python에 대한 자세한 내용은 official Python tutorial (https://docs.python.org/3/tutorial/index.html) 을 참고하기 바란다.\n",
        "* 이 저작물은 <a rel=\"license\" href=\"http://creativecommons.org/licenses/by-nc-sa/4.0/\">크리에이티브 커먼즈 저작자표시-비영리-동일조건변경허락 4.0 국제 라이선스</a>에 따라 이용할 수 있다.\n",
        "\n",
        "<a rel=\"license\" href=\"http://creativecommons.org/licenses/by-nc-sa/4.0/\"><img alt=\"크리에이티브 커먼즈 라이선스\" style=\"border-width:0\" src=\"https://i.creativecommons.org/l/by-nc-sa/4.0/88x31.png\" /></a>"
      ]
    },
    {
      "cell_type": "markdown",
      "metadata": {
        "id": "2nj6C-VofNLC",
        "colab_type": "text"
      },
      "source": [
        "# 목록(Lists), 튜플(tuples), 사전(dictionary)\n",
        "\n",
        "목록, 사전, 그리고 튜플은 모두 비슷한 기능과 사용법을 제공하지만, 각각은 언어에서의 자신만의 쓰임새를 가지고 있습니다. 각각은 모두 특정한 상황에서 중요한 역할을 한며, 튜플을 제외한 모든 컨테이너들은 변경 가능한 개체이므로, 생성된 이후에 조작을 할 수 있다."
      ]
    },
    {
      "cell_type": "markdown",
      "metadata": {
        "id": "RRj9exgVLZoP",
        "colab_type": "text"
      },
      "source": [
        "##List (목록)\n",
        "\n",
        "* 파이썬 프로그래밍 언어 내에서 가장 많이 쓰이는 구조는 바로 목록(list) 이다. \n",
        "\n",
        "* Python의 목록은 정적 유형 언어에서 제공하는 유사한 구조들에 비해 장점이 크며, 파이썬 언어의 동적인 경향은 목록으로 하여금 서로 다른 유형의 값들을 담을 수 있는 기능을 구축할 수 있다. 다시 말해 목록은 어떠한 파이썬 자료형이라도 저장하는데 쓰일 수 있으며, 단일한 목록 내에 이러한 유형을 섞을 수도 있다. \n",
        "\n",
        "* 파이썬 언어에서는 목록의 생성과 사용이 매우 단순하며 쉽다. 그저 빈 대괄호 한 쌍을 변수에 할당하면 빈 목록이 생성되며, 내장된 list() 함수를 사용하여 목록을 생성할 수도 있다. \n",
        "\n",
        "* 목록은 애플리케이션을 수행하는 중에 생성 및 수정할 수 있으며, 고정된 길이가 없고, 특정 항목을 정해진 위치에 배치하거나 삭제하고자 할 때는 인덱스를 사용할 수도 있다. \n"
      ]
    },
    {
      "cell_type": "code",
      "metadata": {
        "id": "ydCyXxXCLs5P",
        "colab_type": "code",
        "colab": {
          "base_uri": "https://localhost:8080/",
          "height": 51
        },
        "outputId": "477c27cc-a6e5-4b6b-e22f-3fced62ad01b"
      },
      "source": [
        "my_list = []   # 빈 목록을 정의\n",
        "print(my_list)\n",
        "print(type(my_list))"
      ],
      "execution_count": null,
      "outputs": [
        {
          "output_type": "stream",
          "text": [
            "[]\n",
            "<class 'list'>\n"
          ],
          "name": "stdout"
        }
      ]
    },
    {
      "cell_type": "code",
      "metadata": {
        "id": "NWcthx7FL7HT",
        "colab_type": "code",
        "colab": {
          "base_uri": "https://localhost:8080/",
          "height": 34
        },
        "outputId": "0fa44dea-06d2-44a4-94a3-98fb7e1ff949"
      },
      "source": [
        "my_list = [1]   # 하나의 원소를 가진 목록\n",
        "my_list         # 번역기에서 변수를 출력하기 위해서 print를 사용할 필요가 없다"
      ],
      "execution_count": null,
      "outputs": [
        {
          "output_type": "execute_result",
          "data": {
            "text/plain": [
              "[1]"
            ]
          },
          "metadata": {
            "tags": []
          },
          "execution_count": 3
        }
      ]
    },
    {
      "cell_type": "code",
      "metadata": {
        "id": "fphF46IvMHYB",
        "colab_type": "code",
        "colab": {
          "base_uri": "https://localhost:8080/",
          "height": 85
        },
        "outputId": "dbb3be8c-1fa3-4e5c-f7c4-37531ea71ac1"
      },
      "source": [
        "my_string_list = ['Hello', 'Jython' ,'Lists']  # 문자열 값의 목록을 정의\n",
        "print (my_string_list)\n",
        "multi_list = [1, 2, 'three', 4, 'five', 'six']  # 복수의 자료형을 포함하는 목록을 정의\n",
        "print (multi_list)\n",
        "combo_list = [1, my_string_list, multi_list]   # 목록을 포함하는 목록을 정의\n",
        "print (combo_list)\n",
        "my_new_list = ['new_item1', 'new_item2', [1, 2, 3, 4], 'new_item3']   # 목록을 포함하는 목록을 한 줄로 정의\n",
        "print (my_new_list)"
      ],
      "execution_count": null,
      "outputs": [
        {
          "output_type": "stream",
          "text": [
            "['Hello', 'Jython', 'Lists']\n",
            "[1, 2, 'three', 4, 'five', 'six']\n",
            "[1, ['Hello', 'Jython', 'Lists'], [1, 2, 'three', 4, 'five', 'six']]\n",
            "['new_item1', 'new_item2', [1, 2, 3, 4], 'new_item3']\n"
          ],
          "name": "stdout"
        }
      ]
    },
    {
      "cell_type": "markdown",
      "metadata": {
        "id": "k5z7NPbxVya_",
        "colab_type": "text"
      },
      "source": [
        "* 목록에서 값을 얻기 위해 인덱스를 사용할 수 있습니다. 목록으로부터 범위나 값의 집합을 얻고자 한다면, 시작 인덱스 및 끝 인덱스를 지정할 수 있다. \n",
        "\n",
        "* 이러한 기법은 썰기 (slicing)라고 알려져 있는데, 목록을 썰면, 항상 새로운 목록이 반환된다는 점에 유의하고, 썰기 구문을 쓸 때 상한이나 하한을 지정하지 않으면 목록을 복사할 수 있다. \n",
        "\n",
        "* 하한의 기본값은 0이며, 상한의 기본값은 목록의 길이가 된다. 부가적으로, 단계 인덱스를 제공함으로써 목록으로부터 값을 띄엄띄엄 모은 집합을 반환할 수도 있으며, 기억해야할 열쇠는 인덱스를 통해 목록에 접근할 때에는, 목록에 저장된 첫 원소의 인덱스는 0이라는 것이다. \n"
      ]
    },
    {
      "cell_type": "code",
      "metadata": {
        "id": "tpbtRUjMrwOg",
        "colab_type": "code",
        "colab": {
          "base_uri": "https://localhost:8080/",
          "height": 51
        },
        "outputId": "cd38635c-4d0b-4888-f0ac-21d0ea645fdc"
      },
      "source": [
        "my_string_list = ['Hello', 'Jython', 'Lists'] \n",
        "print(len(my_string_list))\n",
        "print(my_string_list[1])  # 목록에서 원소를 얻기"
      ],
      "execution_count": null,
      "outputs": [
        {
          "output_type": "stream",
          "text": [
            "3\n",
            "Jython\n"
          ],
          "name": "stdout"
        }
      ]
    },
    {
      "cell_type": "code",
      "metadata": {
        "id": "MOJUrcuYURA8",
        "colab_type": "code",
        "colab": {
          "base_uri": "https://localhost:8080/",
          "height": 164
        },
        "outputId": "ec118ca4-9a08-4c3a-a7e7-0d39e5f6f348"
      },
      "source": [
        "my_string_list[3]"
      ],
      "execution_count": null,
      "outputs": [
        {
          "output_type": "error",
          "ename": "IndexError",
          "evalue": "ignored",
          "traceback": [
            "\u001b[0;31m---------------------------------------------------------------------------\u001b[0m",
            "\u001b[0;31mIndexError\u001b[0m                                Traceback (most recent call last)",
            "\u001b[0;32m<ipython-input-3-bcee4818d5ed>\u001b[0m in \u001b[0;36m<module>\u001b[0;34m()\u001b[0m\n\u001b[0;32m----> 1\u001b[0;31m \u001b[0mmy_string_list\u001b[0m\u001b[0;34m[\u001b[0m\u001b[0;36m3\u001b[0m\u001b[0;34m]\u001b[0m\u001b[0;34m\u001b[0m\u001b[0;34m\u001b[0m\u001b[0m\n\u001b[0m",
            "\u001b[0;31mIndexError\u001b[0m: list index out of range"
          ]
        }
      ]
    },
    {
      "cell_type": "code",
      "metadata": {
        "id": "TRunlhXSscrA",
        "colab_type": "code",
        "colab": {
          "base_uri": "https://localhost:8080/",
          "height": 35
        },
        "outputId": "704ec157-7d36-4687-9a4e-b45b0b7fcdb9"
      },
      "source": [
        "my_string_list[-1]  # 음수 인덱스는 목록의 마지막 원소에서 시작하여 첫 항목 쪽으로 거슬러 감"
      ],
      "execution_count": null,
      "outputs": [
        {
          "output_type": "execute_result",
          "data": {
            "text/plain": [
              "'Lists'"
            ]
          },
          "metadata": {
            "tags": []
          },
          "execution_count": 46
        }
      ]
    },
    {
      "cell_type": "code",
      "metadata": {
        "id": "I6IuGUGjUniO",
        "colab_type": "code",
        "colab": {
          "base_uri": "https://localhost:8080/",
          "height": 163
        },
        "outputId": "b30bab4c-21b6-49d2-bbb3-f9fb6be0735e"
      },
      "source": [
        "my_string_list[-4]"
      ],
      "execution_count": null,
      "outputs": [
        {
          "output_type": "error",
          "ename": "IndexError",
          "evalue": "ignored",
          "traceback": [
            "\u001b[0;31m---------------------------------------------------------------------------\u001b[0m",
            "\u001b[0;31mIndexError\u001b[0m                                Traceback (most recent call last)",
            "\u001b[0;32m<ipython-input-8-8007ea9b6142>\u001b[0m in \u001b[0;36m<module>\u001b[0;34m()\u001b[0m\n\u001b[0;32m----> 1\u001b[0;31m \u001b[0mmy_string_list\u001b[0m\u001b[0;34m[\u001b[0m\u001b[0;34m-\u001b[0m\u001b[0;36m4\u001b[0m\u001b[0;34m]\u001b[0m\u001b[0;34m\u001b[0m\u001b[0;34m\u001b[0m\u001b[0m\n\u001b[0m",
            "\u001b[0;31mIndexError\u001b[0m: list index out of range"
          ]
        }
      ]
    },
    {
      "cell_type": "code",
      "metadata": {
        "id": "k_5QLlSdUsGF",
        "colab_type": "code",
        "colab": {
          "base_uri": "https://localhost:8080/",
          "height": 34
        },
        "outputId": "b451653c-a6bb-491a-db8a-59b505996d21"
      },
      "source": [
        "my_string_list[0:2] # 썰기(썰기는 시작 인덱스의 원소는 포함하고 끝 인덱스의 원소는 제외한다는 점에 유의)"
      ],
      "execution_count": null,
      "outputs": [
        {
          "output_type": "execute_result",
          "data": {
            "text/plain": [
              "['Hello', 'Jython']"
            ]
          },
          "metadata": {
            "tags": []
          },
          "execution_count": 4
        }
      ]
    },
    {
      "cell_type": "code",
      "metadata": {
        "id": "_2EWxF0EUyWA",
        "colab_type": "code",
        "colab": {
          "base_uri": "https://localhost:8080/",
          "height": 35
        },
        "outputId": "5cff2043-9506-4065-ef4c-9aeaccc26718"
      },
      "source": [
        "my_string_list_copy = my_string_list[:]   # 썰기를 통해 목록의 얕은 사본을 생성\n",
        "my_string_list_copy"
      ],
      "execution_count": null,
      "outputs": [
        {
          "output_type": "execute_result",
          "data": {
            "text/plain": [
              "['Hello', 'Jython', 'Lists']"
            ]
          },
          "metadata": {
            "tags": []
          },
          "execution_count": 49
        }
      ]
    },
    {
      "cell_type": "code",
      "metadata": {
        "id": "9DmeJXwpU5ct",
        "colab_type": "code",
        "colab": {
          "base_uri": "https://localhost:8080/",
          "height": 34
        },
        "outputId": "f112ad32-f974-4c7a-a009-150319f9090e"
      },
      "source": [
        "new_list=[2, 4, 6, 8, 10, 12, 14, 16, 18, 20]\n",
        "new_list[0:10:1]  # 썰기에서 세번째 인자를 사용하면 건너뛰기가 됨, 이 예제는 한 칸 씩 이동(step)"
      ],
      "execution_count": null,
      "outputs": [
        {
          "output_type": "execute_result",
          "data": {
            "text/plain": [
              "[2, 4, 6, 8, 10, 12, 14, 16, 18, 20]"
            ]
          },
          "metadata": {
            "tags": []
          },
          "execution_count": 1
        }
      ]
    },
    {
      "cell_type": "code",
      "metadata": {
        "id": "VDKErY1rVMBE",
        "colab_type": "code",
        "colab": {
          "base_uri": "https://localhost:8080/",
          "height": 35
        },
        "outputId": "9f5ca614-51d3-4a74-dce8-23411044f76e"
      },
      "source": [
        "new_list[0:10:2] # 그리고 여기서는 두 칸 씩 이동"
      ],
      "execution_count": null,
      "outputs": [
        {
          "output_type": "execute_result",
          "data": {
            "text/plain": [
              "[2, 6, 10, 14, 18]"
            ]
          },
          "metadata": {
            "tags": []
          },
          "execution_count": 51
        }
      ]
    },
    {
      "cell_type": "code",
      "metadata": {
        "id": "ZEzzwdXiVRom",
        "colab_type": "code",
        "colab": {
          "base_uri": "https://localhost:8080/",
          "height": 35
        },
        "outputId": "322a0744-c323-4281-d34a-ab721dbd5a21"
      },
      "source": [
        "new_list[::2]    # 시작 인덱스를 비워두면 기본값이 0을 지정한 것과 같이 동작하며, 끝 인덱스에 대해서는 목록의 길이가 기본값임"
      ],
      "execution_count": null,
      "outputs": [
        {
          "output_type": "execute_result",
          "data": {
            "text/plain": [
              "[2, 6, 10, 14, 18]"
            ]
          },
          "metadata": {
            "tags": []
          },
          "execution_count": 52
        }
      ]
    },
    {
      "cell_type": "markdown",
      "metadata": {
        "id": "tE6FOMCEWRK4",
        "colab_type": "text"
      },
      "source": [
        "목록의 끝에 항목을 추가하기 위해 append() 메소드를 사용할 수 있다. extend() 메소드는 목록의 끝에 목록이나 순서 전체의 사본을 추가할 수 있도록 해준다. 마지막으로, insert() 메소드는 한 항목이나 다른 목록을 기존 목록의 특정한 위치에 인덱스를 활용하여 배치할 수 있도록 해준다. 기존의 목록에 다른 목록이 삽입되면 그것은 원본 목록과 결합되는 것이 아니라, 원본 목록 내에 들어있는 독립된 항목이 된다. \n",
        "\n",
        "마찬가지로, 우리는 목록에서 항목을 제거하기 위한 많은 옵션이 있다. del 문이, 인덱스 표기법을 통해 목록으로부터 전체 목록 또는 값들을 제거 또는 삭제하는데 쓰일 수 있다. 또한 목록에서 단일 값을 제거하는 pop() 또는 remove() 메소드를 사용할 수 있다. pop() 메소드는 목록의 끝에서 단일 값을 제거하며, 또한 동시에 그 값을 반환한다. pop()에 인덱스가 인자로 주어지면, 해당 위치에 있는 값을 제거 및 반환한다. remove() 메소드는 목록에서 특정 값을 찾아서 지우는데 사용할 수 있다. 다시 말해, remove()는 처음 일치하는 원소를 목록에서 제거한다. remove() 함수로 전달한 값과 하나 이상의 값이 일치하면, 처음 것이 제거될 것이다. remove()에 대한 다른 주의점은 제거된 값은 반환하지 않는다는 점이다. \n",
        "\n",
        "목록 메소드는 다음과 같다. \n",
        "\n",
        "* index\t: 주어진 값과 일치하는, 목록 내의 첫 번째 값을 반환\n",
        "* count\t: 주어진 값과 동등한, 목록 내의 원소의 갯수를 반환\n",
        "* sort : 목록 내에 포함된 원소를 정렬하여 그 목록을 반환\n",
        "* reverse : 목록 내에 포함된 원소를 역순으로 배열하여 그 목록을 반환"
      ]
    },
    {
      "cell_type": "code",
      "metadata": {
        "id": "Qx4dF6ojWNnZ",
        "colab_type": "code",
        "colab": {
          "base_uri": "https://localhost:8080/",
          "height": 35
        },
        "outputId": "ca29f500-3dcd-4a22-8642-ec2c4ac07588"
      },
      "source": [
        "# append 메소드를 사용하여 목록에 값들을 추가\n",
        "new_list=['a','b','c','d','e','f','g']\n",
        "new_list.append('h')\n",
        "print (new_list)"
      ],
      "execution_count": null,
      "outputs": [
        {
          "output_type": "stream",
          "text": [
            "['a', 'b', 'c', 'd', 'e', 'f', 'g', 'h']\n"
          ],
          "name": "stdout"
        }
      ]
    },
    {
      "cell_type": "code",
      "metadata": {
        "id": "582j9l6MWzvK",
        "colab_type": "code",
        "colab": {
          "base_uri": "https://localhost:8080/",
          "height": 35
        },
        "outputId": "8fc812f2-9af5-460c-a605-50521f0932d3"
      },
      "source": [
        "# 다른 목록을 기존 목록에 추가\n",
        "new_list2=['h','i','j','k','l','m','n','o','p']\n",
        "new_list.extend(new_list2)\n",
        "print (new_list)"
      ],
      "execution_count": null,
      "outputs": [
        {
          "output_type": "stream",
          "text": [
            "['a', 'b', 'c', 'd', 'e', 'f', 'g', 'h', 'h', 'i', 'j', 'k', 'l', 'm', 'n', 'o', 'p']\n"
          ],
          "name": "stdout"
        }
      ]
    },
    {
      "cell_type": "code",
      "metadata": {
        "id": "OxI6Qv04W49e",
        "colab_type": "code",
        "colab": {
          "base_uri": "https://localhost:8080/",
          "height": 35
        },
        "outputId": "9d678062-b8b8-4f39-8902-2d3ee9090ed3"
      },
      "source": [
        "# 인덱스를 통해 특정 위치에 값을 삽입.\n",
        "# 이 예제에서는 'c'를 목록에서 3 번째 위치에 추가\n",
        "# (목록의 인덱스는 0부터 시작하므로, 인덱스 2가 실제로는 세번째 자리를 가리킴을 기억하라)\n",
        "new_list.insert(2,'c')\n",
        "print (new_list)"
      ],
      "execution_count": null,
      "outputs": [
        {
          "output_type": "stream",
          "text": [
            "['a', 'b', 'c', 'c', 'd', 'e', 'f', 'g', 'h', 'h', 'i', 'j', 'k', 'l', 'm', 'n', 'o', 'p']\n"
          ],
          "name": "stdout"
        }
      ]
    },
    {
      "cell_type": "code",
      "metadata": {
        "id": "v6eF-XUuXIqY",
        "colab_type": "code",
        "colab": {
          "base_uri": "https://localhost:8080/",
          "height": 35
        },
        "outputId": "56960729-798a-474c-8093-1d1aa6476b0b"
      },
      "source": [
        "# 인덱스를 통해 특정한 위치로 목록을 삽입\n",
        "another_list = ['a', 'b', 'c']\n",
        "another_list.insert(2, new_list)\n",
        "print(another_list)"
      ],
      "execution_count": null,
      "outputs": [
        {
          "output_type": "stream",
          "text": [
            "['a', 'b', ['a', 'b', 'c', 'c', 'd', 'e', 'f', 'g', 'h', 'h', 'i', 'j', 'k', 'l', 'm', 'n', 'o', 'p'], 'c']\n"
          ],
          "name": "stdout"
        }
      ]
    },
    {
      "cell_type": "code",
      "metadata": {
        "id": "9TfErJU3XmlK",
        "colab_type": "code",
        "colab": {
          "base_uri": "https://localhost:8080/",
          "height": 35
        },
        "outputId": "80ecf1f7-f866-44ae-f7fd-41d539ef5b5f"
      },
      "source": [
        "# 썰기 표기법을 사용하여 목록 또는 순서의 일부를 덮어씀\n",
        "new_listA=[100,200,300,400]\n",
        "new_listB=[500,600,700,800]\n",
        "new_listA[0:2]=new_listB\n",
        "print (new_listA)"
      ],
      "execution_count": null,
      "outputs": [
        {
          "output_type": "stream",
          "text": [
            "[500, 600, 700, 800, 300, 400]\n"
          ],
          "name": "stdout"
        }
      ]
    },
    {
      "cell_type": "code",
      "metadata": {
        "id": "NdmvKjYAX8zg",
        "colab_type": "code",
        "colab": {
          "base_uri": "https://localhost:8080/",
          "height": 35
        },
        "outputId": "4383ccbb-14aa-4e72-a001-c2dd652b38b5"
      },
      "source": [
        "# 빈 썰기 표기법을 사용하여 목록을 다른 목록에 할당\n",
        "one = ['a', 'b', 'c', 'd']\n",
        "two = ['e', 'f']\n",
        "\n",
        "# 시작과 종료 위치를 동일하게 하여 목록으로부터 빈 조각을 만들어낸다.\n",
        "# 시작과 끝 위치를 동일하게 쓰는 한, 어느 위치든 상관 없음.\n",
        "one[2:2]"
      ],
      "execution_count": null,
      "outputs": [
        {
          "output_type": "execute_result",
          "data": {
            "text/plain": [
              "[]"
            ]
          },
          "metadata": {
            "tags": []
          },
          "execution_count": 58
        }
      ]
    },
    {
      "cell_type": "code",
      "metadata": {
        "id": "JwRJnP0wYmdB",
        "colab_type": "code",
        "colab": {
          "base_uri": "https://localhost:8080/",
          "height": 35
        },
        "outputId": "c8f2a7b6-b37c-40f8-809b-db0a825d7abe"
      },
      "source": [
        "# 그 자체로는 별로 재미가 없다 - 빈 목록은 아주 쉽게 만들 수 있다.\n",
        "# 이것에 대해 유용한 점은 이것을 빈 조각에 할당할 수 있다는 것이다.\n",
        "# 이제, 'two' 목록을 'one'목록의 빈 조각에 할당함으로써 실제로는 'two' 목록을 'one' 목록에 삽입한다.\n",
        "one[2:2] = two          # 'one' 목록의 원소 1과 2 사이를 'two' 목록으로 대체\n",
        "print(one)"
      ],
      "execution_count": null,
      "outputs": [
        {
          "output_type": "stream",
          "text": [
            "['a', 'b', 'e', 'f', 'c', 'd']\n"
          ],
          "name": "stdout"
        }
      ]
    },
    {
      "cell_type": "code",
      "metadata": {
        "id": "_Guk_Q5eY0Qu",
        "colab_type": "code",
        "colab": {
          "base_uri": "https://localhost:8080/",
          "height": 35
        },
        "outputId": "36738456-bf62-4bda-8ba8-c5aabd9695cf"
      },
      "source": [
        "# del 구문을 사용하여 값 또는 값의 범위를 목록으로부터 제거\n",
        "# 모든 다른 원소가 이동하여 빈 공간을 채움에 유의\n",
        "new_list3 = ['a','b','c','d','e','f']\n",
        "del new_list3[2]\n",
        "new_list3"
      ],
      "execution_count": null,
      "outputs": [
        {
          "output_type": "execute_result",
          "data": {
            "text/plain": [
              "['a', 'b', 'd', 'e', 'f']"
            ]
          },
          "metadata": {
            "tags": []
          },
          "execution_count": 60
        }
      ]
    },
    {
      "cell_type": "code",
      "metadata": {
        "id": "0GrXBGnsY9wl",
        "colab_type": "code",
        "colab": {
          "base_uri": "https://localhost:8080/",
          "height": 35
        },
        "outputId": "209d7e66-1853-4708-f3c4-efafc1d732b5"
      },
      "source": [
        "del new_list3[1:3]\n",
        "new_list3"
      ],
      "execution_count": null,
      "outputs": [
        {
          "output_type": "execute_result",
          "data": {
            "text/plain": [
              "['a', 'e', 'f']"
            ]
          },
          "metadata": {
            "tags": []
          },
          "execution_count": 61
        }
      ]
    },
    {
      "cell_type": "code",
      "metadata": {
        "id": "R-EsVSjaZC3Q",
        "colab_type": "code",
        "colab": {
          "base_uri": "https://localhost:8080/",
          "height": 35
        },
        "outputId": "7d32cc6f-d21c-488f-a2b3-3416b286741e"
      },
      "source": [
        "# del 구문을 사용하여 목록을 제거\n",
        "new_list3=[1,2,3,4,5]\n",
        "print (new_list3)"
      ],
      "execution_count": null,
      "outputs": [
        {
          "output_type": "stream",
          "text": [
            "[1, 2, 3, 4, 5]\n"
          ],
          "name": "stdout"
        }
      ]
    },
    {
      "cell_type": "code",
      "metadata": {
        "id": "dcfFdYyVZKHx",
        "colab_type": "code",
        "colab": {
          "base_uri": "https://localhost:8080/",
          "height": 190
        },
        "outputId": "e1201c7b-de60-4a03-dff6-5a10fa1e6236"
      },
      "source": [
        "del new_list3\n",
        "print (new_list3)"
      ],
      "execution_count": null,
      "outputs": [
        {
          "output_type": "error",
          "ename": "NameError",
          "evalue": "ignored",
          "traceback": [
            "\u001b[0;31m---------------------------------------------------------------------------\u001b[0m",
            "\u001b[0;31mNameError\u001b[0m                                 Traceback (most recent call last)",
            "\u001b[0;32m<ipython-input-63-8d08f921bccc>\u001b[0m in \u001b[0;36m<module>\u001b[0;34m()\u001b[0m\n\u001b[1;32m      1\u001b[0m \u001b[0;32mdel\u001b[0m \u001b[0mnew_list3\u001b[0m\u001b[0;34m\u001b[0m\u001b[0;34m\u001b[0m\u001b[0m\n\u001b[0;32m----> 2\u001b[0;31m \u001b[0mprint\u001b[0m \u001b[0;34m(\u001b[0m\u001b[0mnew_list3\u001b[0m\u001b[0;34m)\u001b[0m\u001b[0;34m\u001b[0m\u001b[0;34m\u001b[0m\u001b[0m\n\u001b[0m",
            "\u001b[0;31mNameError\u001b[0m: name 'new_list3' is not defined"
          ]
        }
      ]
    },
    {
      "cell_type": "code",
      "metadata": {
        "id": "b3t7qFn0ZTGb",
        "colab_type": "code",
        "colab": {
          "base_uri": "https://localhost:8080/",
          "height": 53
        },
        "outputId": "8011e697-37a5-4fe0-8abd-92eeaa720de6"
      },
      "source": [
        "# pop과 remove 함수를 사용하여 목록으로부터 값을 제거\n",
        "print (new_list)\n",
        "\n",
        "# 인덱스가 2인 원소를 pop\n",
        "new_list.pop(2)"
      ],
      "execution_count": null,
      "outputs": [
        {
          "output_type": "stream",
          "text": [
            "['a', 'b', 'c', 'c', 'd', 'e', 'f', 'g', 'h', 'h', 'i', 'j', 'k', 'l', 'm', 'n', 'o', 'p']\n"
          ],
          "name": "stdout"
        },
        {
          "output_type": "execute_result",
          "data": {
            "text/plain": [
              "'c'"
            ]
          },
          "metadata": {
            "tags": []
          },
          "execution_count": 64
        }
      ]
    },
    {
      "cell_type": "code",
      "metadata": {
        "id": "K6cNq83pZkuo",
        "colab_type": "code",
        "colab": {
          "base_uri": "https://localhost:8080/",
          "height": 53
        },
        "outputId": "9acb8128-00ba-4951-f9ed-f1fd69a08b4d"
      },
      "source": [
        "print (new_list)\n",
        "\n",
        "# 목록에서 처음으로 나타나는 'h' 문자를 제거\n",
        "new_list.remove('h')\n",
        "print (new_list)"
      ],
      "execution_count": null,
      "outputs": [
        {
          "output_type": "stream",
          "text": [
            "['a', 'b', 'c', 'd', 'e', 'f', 'g', 'h', 'h', 'i', 'j', 'k', 'l', 'm', 'n', 'o', 'p']\n",
            "['a', 'b', 'c', 'd', 'e', 'f', 'g', 'h', 'i', 'j', 'k', 'l', 'm', 'n', 'o', 'p']\n"
          ],
          "name": "stdout"
        }
      ]
    },
    {
      "cell_type": "markdown",
      "metadata": {
        "id": "5dUWPLEXaCqj",
        "colab_type": "text"
      },
      "source": [
        "## Tuple\n",
        "\n",
        "* tuple은 목록과 상당히 비슷하지만, 차이점은 불변이라는 것이다. 일단 튜플이 정의되면, 그것은 바꿀 수가 없다. 목록과 마찬가지로 인덱스를 가지기는 하지만, 한번 정의하면 변경될 수가 없다. \n",
        "* 따라서, 튜플에 있는 인덱스는 특정한 값을 추출하기 위해 사용하는 것이지 할당이나 수정을 위한 것이 아니다. 튜플이 목록과 비슷하게 보일지라도, 튜플은 보통 이질적인 원소들을 포함한다는 점에서, 연관성 있는 방식으로 원소를 저장하는 목록에 비해 상당히 다르다.\n",
        "* 예를 들어, 튜플의 일반적인 용례는 함수, 메소드 등에 매개변수를 전달하는 것이고, 튜플은 순서형에 속하기 때문에, 모든 순서형의 연산에 쓸 수 있는 몇몇 동일한 메소드를 사용할 수 있다."
      ]
    },
    {
      "cell_type": "code",
      "metadata": {
        "id": "TTQK257kaO--",
        "colab_type": "code",
        "colab": {
          "base_uri": "https://localhost:8080/",
          "height": 51
        },
        "outputId": "c2a81018-401b-411d-9fa0-029ef49b7b7e"
      },
      "source": [
        "# 빈 튜플 생성\n",
        "myTuple = {}\n",
        "\n",
        "# 튜플 생성하고 사용하기\n",
        "myTuple2 = (1, 'two', 3, 'four')\n",
        "print(len(myTuple2))\n",
        "myTuple2[2]"
      ],
      "execution_count": null,
      "outputs": [
        {
          "output_type": "stream",
          "text": [
            "4\n"
          ],
          "name": "stdout"
        },
        {
          "output_type": "execute_result",
          "data": {
            "text/plain": [
              "3"
            ]
          },
          "metadata": {
            "tags": []
          },
          "execution_count": 1
        }
      ]
    },
    {
      "cell_type": "markdown",
      "metadata": {
        "id": "SZoHAzJMtsY8",
        "colab_type": "text"
      },
      "source": [
        "## Dictionaries\n",
        "\n",
        "파이썬의 사전dictionary은 열쇠-값을 담는 그릇container이다. 사전은 주어진 원소에 대해 자동으로 채워지는 인덱스가 없으므로 파이썬의 전형적인 목록과는 상당히 다르다. 목록을 사용할 때는 어떠한 값에 대해 인덱스를 할당하는 것을 걱정할 필요가 없다. 사전은 개발자로 하여금 구조 내에 위치한 모든 원소에 대해 인덱스나 “열쇠”를 할당하도록 해준다. 그러므로, 사전에 들어가는 것은 열쇠와 원소를라는 두 값을 필요로 한다\n",
        "\n",
        "사전이 아름다운 점은 개발자로 하여금 열쇠 값의 자료형을 선택할 수 있도록 해준다는 것이다. 따라서, 문자열 또는 그외의 정수나 부동소수점수 등의 해쉬 가능한 개체를 열쇠로 사용하는 것이 얼마든지 가능하다. 사전은 또한 사용하기에 좋도록 다수의 메소드와 연산을 가지고 있다. 표 2-5는 사전의 메소드와 함수를 나열한다."
      ]
    },
    {
      "cell_type": "code",
      "metadata": {
        "id": "7sQm6jlEtw-L",
        "colab_type": "code",
        "colab": {
          "base_uri": "https://localhost:8080/",
          "height": 71
        },
        "outputId": "6a43892a-c175-4d37-9379-a32d7f188ee4"
      },
      "source": [
        "my_grb = {'name': 'GRB 130702A', 'redshift': 0.145, 'ra': (14, 29, 14.78), 'dec': (15, 46, 26.4)}\n",
        "print(my_grb)\n",
        "print(my_grb['ra'])\n",
        "print(my_grb['dec'])"
      ],
      "execution_count": null,
      "outputs": [
        {
          "output_type": "stream",
          "text": [
            "{'name': 'GRB 130702A', 'redshift': 0.145, 'ra': (14, 29, 14.78), 'dec': (15, 46, 26.4)}\n",
            "(14, 29, 14.78)\n",
            "(15, 46, 26.4)\n"
          ],
          "name": "stdout"
        }
      ]
    },
    {
      "cell_type": "markdown",
      "metadata": {
        "id": "Hl1bCPgwucmZ",
        "colab_type": "text"
      },
      "source": [
        "dictionary에 item을 추가하거나 삭제할 수 있다."
      ]
    },
    {
      "cell_type": "code",
      "metadata": {
        "id": "APRmpiQkuhiC",
        "colab_type": "code",
        "colab": {
          "base_uri": "https://localhost:8080/",
          "height": 73
        },
        "outputId": "412a39b3-1b66-4070-86b3-42ddce820f89"
      },
      "source": [
        "my_grb = {'name': 'GRB 130702A', 'redshift': 0.145, 'ra': (14, 29, 14.78), 'dec': (15, 46, 26.4)}\n",
        "\n",
        "my_grb['url'] = 'http://gcn.gsfc.nasa.gov/other/130702A.gcn3'\n",
        "print(my_grb)\n",
        "\n",
        "del my_grb['name']\n",
        "print(my_grb)"
      ],
      "execution_count": null,
      "outputs": [
        {
          "output_type": "stream",
          "text": [
            "{'name': 'GRB 130702A', 'redshift': 0.145, 'ra': (14, 29, 14.78), 'dec': (15, 46, 26.4), 'url': 'http://gcn.gsfc.nasa.gov/other/130702A.gcn3'}\n",
            "{'redshift': 0.145, 'ra': (14, 29, 14.78), 'dec': (15, 46, 26.4), 'url': 'http://gcn.gsfc.nasa.gov/other/130702A.gcn3'}\n"
          ],
          "name": "stdout"
        }
      ]
    },
    {
      "cell_type": "markdown",
      "metadata": {
        "id": "j3arcPyufWiI",
        "colab_type": "text"
      },
      "source": [
        "# 조건문 / 반복문"
      ]
    },
    {
      "cell_type": "markdown",
      "metadata": {
        "id": "IcOGuUkNwPlE",
        "colab_type": "text"
      },
      "source": [
        "## 조건문\n",
        "\n",
        "In Python, control flow statements such as conditionals and loops have blocks indicated with indentation. Any number\n",
        "of spaces or tabs is fine, as long as you are consistent within a block. Four spaces is the recommended standard.\n",
        "You can use the if...elif...else statement to have different bits of code run depending on the truth or falsehood of\n",
        "boolean expressions. For example:"
      ]
    },
    {
      "cell_type": "code",
      "metadata": {
        "id": "OVDrHgwRf5hy",
        "colab_type": "code",
        "colab": {
          "base_uri": "https://localhost:8080/",
          "height": 34
        },
        "outputId": "812457bc-5eb3-4817-dba3-2e1cbc6a72fe"
      },
      "source": [
        "x, y, z = 3, 3.14, 10-7\n",
        "if (x != y):\n",
        "    print('Different!')"
      ],
      "execution_count": null,
      "outputs": [
        {
          "output_type": "stream",
          "text": [
            "Different!\n"
          ],
          "name": "stdout"
        }
      ]
    },
    {
      "cell_type": "code",
      "metadata": {
        "id": "Iyc_jTSZ5N1O",
        "colab_type": "code",
        "colab": {
          "base_uri": "https://localhost:8080/",
          "height": 34
        },
        "outputId": "d68f9e10-c4d4-4806-a326-89425c38d0ff"
      },
      "source": [
        "x, y, z = 3, 3.14, 10-7\n",
        "if (x == y):\n",
        "    print('Different!')\n",
        "else :\n",
        "    print('Same!')"
      ],
      "execution_count": null,
      "outputs": [
        {
          "output_type": "stream",
          "text": [
            "Same!\n"
          ],
          "name": "stdout"
        }
      ]
    },
    {
      "cell_type": "code",
      "metadata": {
        "id": "P_FOgj1VvqYT",
        "colab_type": "code",
        "colab": {
          "base_uri": "https://localhost:8080/",
          "height": 34
        },
        "outputId": "28f7d59b-46b2-4307-ac1c-e4211577856e"
      },
      "source": [
        "d = {'foo': 3, 'bar': 5, 'bat': 9}\n",
        "if 'foo' in d:\n",
        "   print ('the key \"foo\" is in the dictionary')"
      ],
      "execution_count": null,
      "outputs": [
        {
          "output_type": "stream",
          "text": [
            "the key \"foo\" is in the dictionary\n"
          ],
          "name": "stdout"
        }
      ]
    },
    {
      "cell_type": "markdown",
      "metadata": {
        "id": "GjTYwaalvxcC",
        "colab_type": "text"
      },
      "source": [
        "##반복문\n",
        "\n",
        "* Python에는 두 종류의 반복문이 있다. 하나는 for 문이고, 다른 하나는 while 문이다.\n",
        "* for loop은 다음과 같은 모음 (tuple, set, list, dictionary, or string)들을 이용하여 반복할 수 있다. "
      ]
    },
    {
      "cell_type": "code",
      "metadata": {
        "id": "-X19YWxMv7DW",
        "colab_type": "code",
        "colab": {
          "base_uri": "https://localhost:8080/",
          "height": 85
        },
        "outputId": "3a02b896-7210-4806-a4ff-7a0058e16b78"
      },
      "source": [
        "for i in [0, 1, 2, 3]:\n",
        "  print (i**2)"
      ],
      "execution_count": null,
      "outputs": [
        {
          "output_type": "stream",
          "text": [
            "0\n",
            "1\n",
            "4\n",
            "9\n"
          ],
          "name": "stdout"
        }
      ]
    },
    {
      "cell_type": "code",
      "metadata": {
        "id": "X_phIWtZ6Fbf",
        "colab_type": "code",
        "colab": {
          "base_uri": "https://localhost:8080/",
          "height": 34
        },
        "outputId": "5fbe9f3b-84b1-41d6-9057-5d399d9428f0"
      },
      "source": [
        "range(4, 10)"
      ],
      "execution_count": null,
      "outputs": [
        {
          "output_type": "execute_result",
          "data": {
            "text/plain": [
              "range(4, 10)"
            ]
          },
          "metadata": {
            "tags": []
          },
          "execution_count": 9
        }
      ]
    },
    {
      "cell_type": "code",
      "metadata": {
        "id": "ed-jFeWWwN_N",
        "colab_type": "code",
        "colab": {
          "base_uri": "https://localhost:8080/",
          "height": 340
        },
        "outputId": "62691ff9-b329-4393-81f1-6558bf28b2ed"
      },
      "source": [
        "for i in range(2001, 2020):\n",
        "  print (i**2)"
      ],
      "execution_count": null,
      "outputs": [
        {
          "output_type": "stream",
          "text": [
            "4004001\n",
            "4008004\n",
            "4012009\n",
            "4016016\n",
            "4020025\n",
            "4024036\n",
            "4028049\n",
            "4032064\n",
            "4036081\n",
            "4040100\n",
            "4044121\n",
            "4048144\n",
            "4052169\n",
            "4056196\n",
            "4060225\n",
            "4064256\n",
            "4068289\n",
            "4072324\n",
            "4076361\n"
          ],
          "name": "stdout"
        }
      ]
    },
    {
      "cell_type": "code",
      "metadata": {
        "id": "RuCiqhh9wVPl",
        "colab_type": "code",
        "colab": {
          "base_uri": "https://localhost:8080/",
          "height": 119
        },
        "outputId": "af2f4369-cb2a-4767-d176-566a865b39a7"
      },
      "source": [
        "for i in range(-2, 4):\n",
        "  print (i**2)"
      ],
      "execution_count": null,
      "outputs": [
        {
          "output_type": "stream",
          "text": [
            "4\n",
            "1\n",
            "0\n",
            "1\n",
            "4\n",
            "9\n"
          ],
          "name": "stdout"
        }
      ]
    },
    {
      "cell_type": "code",
      "metadata": {
        "id": "pklQklntwez8",
        "colab_type": "code",
        "colab": {
          "base_uri": "https://localhost:8080/",
          "height": 68
        },
        "outputId": "b4c01670-d9af-4a28-87dd-f5d29d20e202"
      },
      "source": [
        "d = {'foo': 3, 'bar': 5, 'bat': 9}\n",
        "for key, val in d.items():\n",
        "  print (key, '...', val**3)"
      ],
      "execution_count": null,
      "outputs": [
        {
          "output_type": "stream",
          "text": [
            "foo ... 27\n",
            "bar ... 125\n",
            "bat ... 729\n"
          ],
          "name": "stdout"
        }
      ]
    },
    {
      "cell_type": "code",
      "metadata": {
        "id": "GRvdzEYimD91",
        "colab_type": "code",
        "colab": {
          "base_uri": "https://localhost:8080/",
          "height": 34
        },
        "outputId": "3c235d11-a060-42bb-93f5-64b582f2dfdb"
      },
      "source": [
        "import numpy as np\n",
        "\n",
        "L  = np.arange(0, 10, 1) # numpy array with elements (0, 10) with interval 1\n",
        "L1 = np.ones((10))  # 10 by 1 sized numpy array, filled with 1\n",
        "\n",
        "for i in range(0,10):\n",
        "    if (L[i] == 9):\n",
        "        print(\"\\t'Oh it's NEIN!'\")\n",
        "        continue\n",
        "    print(L[i], end=' ') # option \"end\" sets the ending part for each print; test many cases by yourself!\n",
        "    print(L[i]==L1[i], end=' ')"
      ],
      "execution_count": null,
      "outputs": [
        {
          "output_type": "stream",
          "text": [
            "0 False 1 True 2 False 3 False 4 False 5 False 6 False 7 False 8 False \t'Oh it's NEIN!'\n"
          ],
          "name": "stdout"
        }
      ]
    },
    {
      "cell_type": "markdown",
      "metadata": {
        "id": "62OniAYonS4E",
        "colab_type": "text"
      },
      "source": [
        "* while loop는 다음과 같이 조건문과 비슷한 형태로 사용할 수 있다. "
      ]
    },
    {
      "cell_type": "code",
      "metadata": {
        "id": "49D-KyxEw0Nj",
        "colab_type": "code",
        "colab": {
          "base_uri": "https://localhost:8080/",
          "height": 68
        },
        "outputId": "dc81bc99-102d-4c30-8a39-115d1a740317"
      },
      "source": [
        "a = 1\n",
        "while a < 5:\n",
        "  a = a * 2\n",
        "  print (a)"
      ],
      "execution_count": null,
      "outputs": [
        {
          "output_type": "stream",
          "text": [
            "2\n",
            "4\n",
            "8\n"
          ],
          "name": "stdout"
        }
      ]
    },
    {
      "cell_type": "code",
      "metadata": {
        "id": "Y8vHOUQmnVDC",
        "colab_type": "code",
        "colab": {
          "base_uri": "https://localhost:8080/",
          "height": 119
        },
        "outputId": "d2693852-7872-49dc-eb9b-1e54c04a8978"
      },
      "source": [
        "L1 = np.ones((10))  # 10 by 1 sized numpy array, filled with 1\n",
        "j = 0\n",
        "while (1):  # identical to while(True)\n",
        "    print(j, L1[j])\n",
        "    j += 1\n",
        "    if(j==5):\n",
        "        print(\"j reached 5\")\n",
        "        break"
      ],
      "execution_count": null,
      "outputs": [
        {
          "output_type": "stream",
          "text": [
            "0 1.0\n",
            "1 1.0\n",
            "2 1.0\n",
            "3 1.0\n",
            "4 1.0\n",
            "j reached 5\n"
          ],
          "name": "stdout"
        }
      ]
    },
    {
      "cell_type": "markdown",
      "metadata": {
        "id": "bcr1xYOSEuMp",
        "colab_type": "text"
      },
      "source": [
        "# Functions\n",
        "\n",
        "Functions are created with the def statement. A function may either have or not have a return statement to send back a return value."
      ]
    },
    {
      "cell_type": "code",
      "metadata": {
        "id": "dT4trPZPE4HL",
        "colab_type": "code",
        "colab": {
          "base_uri": "https://localhost:8080/",
          "height": 34
        },
        "outputId": "84f3fcdb-82c3-4186-ea17-9e002e8f59e0"
      },
      "source": [
        "def square(n):\n",
        "  return n * n\n",
        "a = square(3)\n",
        "print (a)"
      ],
      "execution_count": null,
      "outputs": [
        {
          "output_type": "stream",
          "text": [
            "9\n"
          ],
          "name": "stdout"
        }
      ]
    },
    {
      "cell_type": "code",
      "metadata": {
        "id": "l0rTalCLFCqX",
        "colab_type": "code",
        "colab": {}
      },
      "source": [
        "def powers(n):\n",
        "  return n**2, n**3\n",
        "print (powers(3))"
      ],
      "execution_count": null,
      "outputs": []
    },
    {
      "cell_type": "markdown",
      "metadata": {
        "id": "P9E8JRN8Fl3V",
        "colab_type": "text"
      },
      "source": [
        "If you pass a mutable value such as a list to a function, then the function may modify that value. For example, you might implement the Fibonacci sequence like this:"
      ]
    },
    {
      "cell_type": "code",
      "metadata": {
        "id": "OhC1eTFbFodl",
        "colab_type": "code",
        "colab": {}
      },
      "source": [
        "def fibonacci(seed, n):\n",
        "  while len(seed) < n:\n",
        "    seed.append(seed[-1] + seed[-2])\n",
        "# Note: no return statement\n",
        "seed = [1, 1]\n",
        "fibonacci(seed, 10)\n",
        "print (seed)"
      ],
      "execution_count": null,
      "outputs": []
    },
    {
      "cell_type": "markdown",
      "metadata": {
        "id": "hJpJDLaUF0qg",
        "colab_type": "text"
      },
      "source": [
        "# Error handling\n",
        "\n",
        "It can be important for your code to be able to handle error conditions. For example, let's say that you are\n",
        "implementing a sinc function:"
      ]
    },
    {
      "cell_type": "code",
      "metadata": {
        "id": "_DU0gsNMF7fD",
        "colab_type": "code",
        "colab": {}
      },
      "source": [
        "import math\n",
        "def sinc(x):\n",
        "  return math.sin(x) / x\n",
        "print (sinc(0))"
      ],
      "execution_count": null,
      "outputs": []
    },
    {
      "cell_type": "code",
      "metadata": {
        "id": "12-nIF7xGWXx",
        "colab_type": "code",
        "colab": {}
      },
      "source": [
        "def sinc(x):\n",
        "    try:\n",
        "        result = math.sin(x) / x\n",
        "    except ZeroDivisionError:\n",
        "        result = 1\n",
        "    return result\n",
        "print (sinc(0))"
      ],
      "execution_count": null,
      "outputs": []
    },
    {
      "cell_type": "markdown",
      "metadata": {
        "id": "OVhS_KAUGnOZ",
        "colab_type": "text"
      },
      "source": [
        "# Reading and writing files\n",
        "\n",
        "The built-in open function opens a file and returns a file object that you can use to read or write data. Here's an example of writing data to a file:"
      ]
    },
    {
      "cell_type": "code",
      "metadata": {
        "id": "q-F-pfUAG44X",
        "colab_type": "code",
        "colab": {}
      },
      "source": [
        "myfile = open('myfile.txt', 'w') # open file for writing\n",
        "myfile.write(\"red 1\\n\")\n",
        "myfile.write(\"green 2\\n\")\n",
        "myfile.write(\"blue 3\\n\")\n",
        "myfile.close()"
      ],
      "execution_count": null,
      "outputs": []
    }
  ]
}